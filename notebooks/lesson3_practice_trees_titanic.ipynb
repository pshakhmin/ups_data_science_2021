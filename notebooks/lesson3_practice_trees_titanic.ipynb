{
 "cells": [
  {
   "cell_type": "markdown",
   "metadata": {},
   "source": [
    "# <center>Тема 3. Обучение с учителем. Методы классификации\n",
    "## <center>Практика. Дерево решений в задаче предсказания выживания пассажиров \"Титаника\". Решение"
   ]
  },
  {
   "cell_type": "markdown",
   "metadata": {},
   "source": [
    "**Заполните код в клетках и выберите ответы в [веб-форме](https://goo.gl/TBwVhQ).**\n",
    "\n",
    "**<a href=\"https://www.kaggle.com/c/titanic\">Соревнование</a> Kaggle \"Titanic: Machine Learning from Disaster\".**"
   ]
  },
  {
   "cell_type": "code",
   "execution_count": 4,
   "metadata": {
    "collapsed": true
   },
   "outputs": [],
   "source": [
    "import numpy as np\n",
    "import pandas as pd\n",
    "from sklearn import tree\n",
    "from sklearn.tree import DecisionTreeClassifier, export_graphviz\n",
    "\n",
    "%matplotlib inline"
   ]
  },
  {
   "cell_type": "markdown",
   "metadata": {},
   "source": [
    "**Функция для формирования csv-файла посылки на Kaggle:**"
   ]
  },
  {
   "cell_type": "code",
   "execution_count": 5,
   "metadata": {
    "collapsed": true
   },
   "outputs": [],
   "source": [
    "def write_to_submission_file(\n",
    "        predicted_labels,\n",
    "        out_file,\n",
    "        train_num=891,\n",
    "        target=\"Survived\",\n",
    "        index_label=\"PassengerId\",\n",
    "):\n",
    "    # turn predictions into data frame and save as csv file\n",
    "    predicted_df = pd.DataFrame(\n",
    "        predicted_labels,\n",
    "        index=np.arange(train_num + 1, train_num + 1 + predicted_labels.shape[0]),\n",
    "        columns=[target],\n",
    "    )\n",
    "    predicted_df.to_csv(out_file, index_label=index_label)"
   ]
  },
  {
   "cell_type": "markdown",
   "metadata": {},
   "source": [
    "**Считываем обучающую и тестовую выборки.**"
   ]
  },
  {
   "cell_type": "code",
   "execution_count": 6,
   "metadata": {
    "collapsed": true
   },
   "outputs": [],
   "source": [
    "train_df = pd.read_csv(\"../data/titanic_train.csv\")\n",
    "test_df = pd.read_csv(\"../data/titanic_test.csv\")"
   ]
  },
  {
   "cell_type": "code",
   "execution_count": 7,
   "metadata": {
    "collapsed": true
   },
   "outputs": [],
   "source": [
    "y = train_df[\"Survived\"]"
   ]
  },
  {
   "cell_type": "code",
   "execution_count": 8,
   "metadata": {},
   "outputs": [
    {
     "data": {
      "text/plain": "   PassengerId  Survived  Pclass  \\\n0            1         0       3   \n1            2         1       1   \n2            3         1       3   \n3            4         1       1   \n4            5         0       3   \n\n                                                Name     Sex   Age  SibSp  \\\n0                            Braund, Mr. Owen Harris    male  22.0      1   \n1  Cumings, Mrs. John Bradley (Florence Briggs Th...  female  38.0      1   \n2                             Heikkinen, Miss. Laina  female  26.0      0   \n3       Futrelle, Mrs. Jacques Heath (Lily May Peel)  female  35.0      1   \n4                           Allen, Mr. William Henry    male  35.0      0   \n\n   Parch            Ticket     Fare Cabin Embarked  \n0      0         A/5 21171   7.2500   NaN        S  \n1      0          PC 17599  71.2833   C85        C  \n2      0  STON/O2. 3101282   7.9250   NaN        S  \n3      0            113803  53.1000  C123        S  \n4      0            373450   8.0500   NaN        S  ",
      "text/html": "<div>\n<style scoped>\n    .dataframe tbody tr th:only-of-type {\n        vertical-align: middle;\n    }\n\n    .dataframe tbody tr th {\n        vertical-align: top;\n    }\n\n    .dataframe thead th {\n        text-align: right;\n    }\n</style>\n<table border=\"1\" class=\"dataframe\">\n  <thead>\n    <tr style=\"text-align: right;\">\n      <th></th>\n      <th>PassengerId</th>\n      <th>Survived</th>\n      <th>Pclass</th>\n      <th>Name</th>\n      <th>Sex</th>\n      <th>Age</th>\n      <th>SibSp</th>\n      <th>Parch</th>\n      <th>Ticket</th>\n      <th>Fare</th>\n      <th>Cabin</th>\n      <th>Embarked</th>\n    </tr>\n  </thead>\n  <tbody>\n    <tr>\n      <th>0</th>\n      <td>1</td>\n      <td>0</td>\n      <td>3</td>\n      <td>Braund, Mr. Owen Harris</td>\n      <td>male</td>\n      <td>22.0</td>\n      <td>1</td>\n      <td>0</td>\n      <td>A/5 21171</td>\n      <td>7.2500</td>\n      <td>NaN</td>\n      <td>S</td>\n    </tr>\n    <tr>\n      <th>1</th>\n      <td>2</td>\n      <td>1</td>\n      <td>1</td>\n      <td>Cumings, Mrs. John Bradley (Florence Briggs Th...</td>\n      <td>female</td>\n      <td>38.0</td>\n      <td>1</td>\n      <td>0</td>\n      <td>PC 17599</td>\n      <td>71.2833</td>\n      <td>C85</td>\n      <td>C</td>\n    </tr>\n    <tr>\n      <th>2</th>\n      <td>3</td>\n      <td>1</td>\n      <td>3</td>\n      <td>Heikkinen, Miss. Laina</td>\n      <td>female</td>\n      <td>26.0</td>\n      <td>0</td>\n      <td>0</td>\n      <td>STON/O2. 3101282</td>\n      <td>7.9250</td>\n      <td>NaN</td>\n      <td>S</td>\n    </tr>\n    <tr>\n      <th>3</th>\n      <td>4</td>\n      <td>1</td>\n      <td>1</td>\n      <td>Futrelle, Mrs. Jacques Heath (Lily May Peel)</td>\n      <td>female</td>\n      <td>35.0</td>\n      <td>1</td>\n      <td>0</td>\n      <td>113803</td>\n      <td>53.1000</td>\n      <td>C123</td>\n      <td>S</td>\n    </tr>\n    <tr>\n      <th>4</th>\n      <td>5</td>\n      <td>0</td>\n      <td>3</td>\n      <td>Allen, Mr. William Henry</td>\n      <td>male</td>\n      <td>35.0</td>\n      <td>0</td>\n      <td>0</td>\n      <td>373450</td>\n      <td>8.0500</td>\n      <td>NaN</td>\n      <td>S</td>\n    </tr>\n  </tbody>\n</table>\n</div>"
     },
     "execution_count": 8,
     "metadata": {},
     "output_type": "execute_result"
    }
   ],
   "source": [
    "train_df.head()"
   ]
  },
  {
   "cell_type": "code",
   "execution_count": 9,
   "metadata": {},
   "outputs": [
    {
     "data": {
      "text/plain": "        PassengerId    Survived      Pclass                     Name   Sex  \\\ncount    891.000000  891.000000  891.000000                      891   891   \nunique          NaN         NaN         NaN                      891     2   \ntop             NaN         NaN         NaN  Braund, Mr. Owen Harris  male   \nfreq            NaN         NaN         NaN                        1   577   \nmean     446.000000    0.383838    2.308642                      NaN   NaN   \nstd      257.353842    0.486592    0.836071                      NaN   NaN   \nmin        1.000000    0.000000    1.000000                      NaN   NaN   \n25%      223.500000    0.000000    2.000000                      NaN   NaN   \n50%      446.000000    0.000000    3.000000                      NaN   NaN   \n75%      668.500000    1.000000    3.000000                      NaN   NaN   \nmax      891.000000    1.000000    3.000000                      NaN   NaN   \n\n               Age       SibSp       Parch  Ticket        Fare    Cabin  \\\ncount   714.000000  891.000000  891.000000     891  891.000000      204   \nunique         NaN         NaN         NaN     681         NaN      147   \ntop            NaN         NaN         NaN  347082         NaN  B96 B98   \nfreq           NaN         NaN         NaN       7         NaN        4   \nmean     29.699118    0.523008    0.381594     NaN   32.204208      NaN   \nstd      14.526497    1.102743    0.806057     NaN   49.693429      NaN   \nmin       0.420000    0.000000    0.000000     NaN    0.000000      NaN   \n25%      20.125000    0.000000    0.000000     NaN    7.910400      NaN   \n50%      28.000000    0.000000    0.000000     NaN   14.454200      NaN   \n75%      38.000000    1.000000    0.000000     NaN   31.000000      NaN   \nmax      80.000000    8.000000    6.000000     NaN  512.329200      NaN   \n\n       Embarked  \ncount       889  \nunique        3  \ntop           S  \nfreq        644  \nmean        NaN  \nstd         NaN  \nmin         NaN  \n25%         NaN  \n50%         NaN  \n75%         NaN  \nmax         NaN  ",
      "text/html": "<div>\n<style scoped>\n    .dataframe tbody tr th:only-of-type {\n        vertical-align: middle;\n    }\n\n    .dataframe tbody tr th {\n        vertical-align: top;\n    }\n\n    .dataframe thead th {\n        text-align: right;\n    }\n</style>\n<table border=\"1\" class=\"dataframe\">\n  <thead>\n    <tr style=\"text-align: right;\">\n      <th></th>\n      <th>PassengerId</th>\n      <th>Survived</th>\n      <th>Pclass</th>\n      <th>Name</th>\n      <th>Sex</th>\n      <th>Age</th>\n      <th>SibSp</th>\n      <th>Parch</th>\n      <th>Ticket</th>\n      <th>Fare</th>\n      <th>Cabin</th>\n      <th>Embarked</th>\n    </tr>\n  </thead>\n  <tbody>\n    <tr>\n      <th>count</th>\n      <td>891.000000</td>\n      <td>891.000000</td>\n      <td>891.000000</td>\n      <td>891</td>\n      <td>891</td>\n      <td>714.000000</td>\n      <td>891.000000</td>\n      <td>891.000000</td>\n      <td>891</td>\n      <td>891.000000</td>\n      <td>204</td>\n      <td>889</td>\n    </tr>\n    <tr>\n      <th>unique</th>\n      <td>NaN</td>\n      <td>NaN</td>\n      <td>NaN</td>\n      <td>891</td>\n      <td>2</td>\n      <td>NaN</td>\n      <td>NaN</td>\n      <td>NaN</td>\n      <td>681</td>\n      <td>NaN</td>\n      <td>147</td>\n      <td>3</td>\n    </tr>\n    <tr>\n      <th>top</th>\n      <td>NaN</td>\n      <td>NaN</td>\n      <td>NaN</td>\n      <td>Braund, Mr. Owen Harris</td>\n      <td>male</td>\n      <td>NaN</td>\n      <td>NaN</td>\n      <td>NaN</td>\n      <td>347082</td>\n      <td>NaN</td>\n      <td>B96 B98</td>\n      <td>S</td>\n    </tr>\n    <tr>\n      <th>freq</th>\n      <td>NaN</td>\n      <td>NaN</td>\n      <td>NaN</td>\n      <td>1</td>\n      <td>577</td>\n      <td>NaN</td>\n      <td>NaN</td>\n      <td>NaN</td>\n      <td>7</td>\n      <td>NaN</td>\n      <td>4</td>\n      <td>644</td>\n    </tr>\n    <tr>\n      <th>mean</th>\n      <td>446.000000</td>\n      <td>0.383838</td>\n      <td>2.308642</td>\n      <td>NaN</td>\n      <td>NaN</td>\n      <td>29.699118</td>\n      <td>0.523008</td>\n      <td>0.381594</td>\n      <td>NaN</td>\n      <td>32.204208</td>\n      <td>NaN</td>\n      <td>NaN</td>\n    </tr>\n    <tr>\n      <th>std</th>\n      <td>257.353842</td>\n      <td>0.486592</td>\n      <td>0.836071</td>\n      <td>NaN</td>\n      <td>NaN</td>\n      <td>14.526497</td>\n      <td>1.102743</td>\n      <td>0.806057</td>\n      <td>NaN</td>\n      <td>49.693429</td>\n      <td>NaN</td>\n      <td>NaN</td>\n    </tr>\n    <tr>\n      <th>min</th>\n      <td>1.000000</td>\n      <td>0.000000</td>\n      <td>1.000000</td>\n      <td>NaN</td>\n      <td>NaN</td>\n      <td>0.420000</td>\n      <td>0.000000</td>\n      <td>0.000000</td>\n      <td>NaN</td>\n      <td>0.000000</td>\n      <td>NaN</td>\n      <td>NaN</td>\n    </tr>\n    <tr>\n      <th>25%</th>\n      <td>223.500000</td>\n      <td>0.000000</td>\n      <td>2.000000</td>\n      <td>NaN</td>\n      <td>NaN</td>\n      <td>20.125000</td>\n      <td>0.000000</td>\n      <td>0.000000</td>\n      <td>NaN</td>\n      <td>7.910400</td>\n      <td>NaN</td>\n      <td>NaN</td>\n    </tr>\n    <tr>\n      <th>50%</th>\n      <td>446.000000</td>\n      <td>0.000000</td>\n      <td>3.000000</td>\n      <td>NaN</td>\n      <td>NaN</td>\n      <td>28.000000</td>\n      <td>0.000000</td>\n      <td>0.000000</td>\n      <td>NaN</td>\n      <td>14.454200</td>\n      <td>NaN</td>\n      <td>NaN</td>\n    </tr>\n    <tr>\n      <th>75%</th>\n      <td>668.500000</td>\n      <td>1.000000</td>\n      <td>3.000000</td>\n      <td>NaN</td>\n      <td>NaN</td>\n      <td>38.000000</td>\n      <td>1.000000</td>\n      <td>0.000000</td>\n      <td>NaN</td>\n      <td>31.000000</td>\n      <td>NaN</td>\n      <td>NaN</td>\n    </tr>\n    <tr>\n      <th>max</th>\n      <td>891.000000</td>\n      <td>1.000000</td>\n      <td>3.000000</td>\n      <td>NaN</td>\n      <td>NaN</td>\n      <td>80.000000</td>\n      <td>8.000000</td>\n      <td>6.000000</td>\n      <td>NaN</td>\n      <td>512.329200</td>\n      <td>NaN</td>\n      <td>NaN</td>\n    </tr>\n  </tbody>\n</table>\n</div>"
     },
     "execution_count": 9,
     "metadata": {},
     "output_type": "execute_result"
    }
   ],
   "source": [
    "train_df.describe(include=\"all\")"
   ]
  },
  {
   "cell_type": "code",
   "execution_count": 10,
   "metadata": {},
   "outputs": [
    {
     "data": {
      "text/plain": "        PassengerId      Pclass              Name   Sex         Age  \\\ncount    418.000000  418.000000               418   418  332.000000   \nunique          NaN         NaN               418     2         NaN   \ntop             NaN         NaN  Kelly, Mr. James  male         NaN   \nfreq            NaN         NaN                 1   266         NaN   \nmean    1100.500000    2.265550               NaN   NaN   30.272590   \nstd      120.810458    0.841838               NaN   NaN   14.181209   \nmin      892.000000    1.000000               NaN   NaN    0.170000   \n25%      996.250000    1.000000               NaN   NaN   21.000000   \n50%     1100.500000    3.000000               NaN   NaN   27.000000   \n75%     1204.750000    3.000000               NaN   NaN   39.000000   \nmax     1309.000000    3.000000               NaN   NaN   76.000000   \n\n             SibSp       Parch    Ticket        Fare            Cabin Embarked  \ncount   418.000000  418.000000       418  417.000000               91      418  \nunique         NaN         NaN       363         NaN               76        3  \ntop            NaN         NaN  PC 17608         NaN  B57 B59 B63 B66        S  \nfreq           NaN         NaN         5         NaN                3      270  \nmean      0.447368    0.392344       NaN   35.627188              NaN      NaN  \nstd       0.896760    0.981429       NaN   55.907576              NaN      NaN  \nmin       0.000000    0.000000       NaN    0.000000              NaN      NaN  \n25%       0.000000    0.000000       NaN    7.895800              NaN      NaN  \n50%       0.000000    0.000000       NaN   14.454200              NaN      NaN  \n75%       1.000000    0.000000       NaN   31.500000              NaN      NaN  \nmax       8.000000    9.000000       NaN  512.329200              NaN      NaN  ",
      "text/html": "<div>\n<style scoped>\n    .dataframe tbody tr th:only-of-type {\n        vertical-align: middle;\n    }\n\n    .dataframe tbody tr th {\n        vertical-align: top;\n    }\n\n    .dataframe thead th {\n        text-align: right;\n    }\n</style>\n<table border=\"1\" class=\"dataframe\">\n  <thead>\n    <tr style=\"text-align: right;\">\n      <th></th>\n      <th>PassengerId</th>\n      <th>Pclass</th>\n      <th>Name</th>\n      <th>Sex</th>\n      <th>Age</th>\n      <th>SibSp</th>\n      <th>Parch</th>\n      <th>Ticket</th>\n      <th>Fare</th>\n      <th>Cabin</th>\n      <th>Embarked</th>\n    </tr>\n  </thead>\n  <tbody>\n    <tr>\n      <th>count</th>\n      <td>418.000000</td>\n      <td>418.000000</td>\n      <td>418</td>\n      <td>418</td>\n      <td>332.000000</td>\n      <td>418.000000</td>\n      <td>418.000000</td>\n      <td>418</td>\n      <td>417.000000</td>\n      <td>91</td>\n      <td>418</td>\n    </tr>\n    <tr>\n      <th>unique</th>\n      <td>NaN</td>\n      <td>NaN</td>\n      <td>418</td>\n      <td>2</td>\n      <td>NaN</td>\n      <td>NaN</td>\n      <td>NaN</td>\n      <td>363</td>\n      <td>NaN</td>\n      <td>76</td>\n      <td>3</td>\n    </tr>\n    <tr>\n      <th>top</th>\n      <td>NaN</td>\n      <td>NaN</td>\n      <td>Kelly, Mr. James</td>\n      <td>male</td>\n      <td>NaN</td>\n      <td>NaN</td>\n      <td>NaN</td>\n      <td>PC 17608</td>\n      <td>NaN</td>\n      <td>B57 B59 B63 B66</td>\n      <td>S</td>\n    </tr>\n    <tr>\n      <th>freq</th>\n      <td>NaN</td>\n      <td>NaN</td>\n      <td>1</td>\n      <td>266</td>\n      <td>NaN</td>\n      <td>NaN</td>\n      <td>NaN</td>\n      <td>5</td>\n      <td>NaN</td>\n      <td>3</td>\n      <td>270</td>\n    </tr>\n    <tr>\n      <th>mean</th>\n      <td>1100.500000</td>\n      <td>2.265550</td>\n      <td>NaN</td>\n      <td>NaN</td>\n      <td>30.272590</td>\n      <td>0.447368</td>\n      <td>0.392344</td>\n      <td>NaN</td>\n      <td>35.627188</td>\n      <td>NaN</td>\n      <td>NaN</td>\n    </tr>\n    <tr>\n      <th>std</th>\n      <td>120.810458</td>\n      <td>0.841838</td>\n      <td>NaN</td>\n      <td>NaN</td>\n      <td>14.181209</td>\n      <td>0.896760</td>\n      <td>0.981429</td>\n      <td>NaN</td>\n      <td>55.907576</td>\n      <td>NaN</td>\n      <td>NaN</td>\n    </tr>\n    <tr>\n      <th>min</th>\n      <td>892.000000</td>\n      <td>1.000000</td>\n      <td>NaN</td>\n      <td>NaN</td>\n      <td>0.170000</td>\n      <td>0.000000</td>\n      <td>0.000000</td>\n      <td>NaN</td>\n      <td>0.000000</td>\n      <td>NaN</td>\n      <td>NaN</td>\n    </tr>\n    <tr>\n      <th>25%</th>\n      <td>996.250000</td>\n      <td>1.000000</td>\n      <td>NaN</td>\n      <td>NaN</td>\n      <td>21.000000</td>\n      <td>0.000000</td>\n      <td>0.000000</td>\n      <td>NaN</td>\n      <td>7.895800</td>\n      <td>NaN</td>\n      <td>NaN</td>\n    </tr>\n    <tr>\n      <th>50%</th>\n      <td>1100.500000</td>\n      <td>3.000000</td>\n      <td>NaN</td>\n      <td>NaN</td>\n      <td>27.000000</td>\n      <td>0.000000</td>\n      <td>0.000000</td>\n      <td>NaN</td>\n      <td>14.454200</td>\n      <td>NaN</td>\n      <td>NaN</td>\n    </tr>\n    <tr>\n      <th>75%</th>\n      <td>1204.750000</td>\n      <td>3.000000</td>\n      <td>NaN</td>\n      <td>NaN</td>\n      <td>39.000000</td>\n      <td>1.000000</td>\n      <td>0.000000</td>\n      <td>NaN</td>\n      <td>31.500000</td>\n      <td>NaN</td>\n      <td>NaN</td>\n    </tr>\n    <tr>\n      <th>max</th>\n      <td>1309.000000</td>\n      <td>3.000000</td>\n      <td>NaN</td>\n      <td>NaN</td>\n      <td>76.000000</td>\n      <td>8.000000</td>\n      <td>9.000000</td>\n      <td>NaN</td>\n      <td>512.329200</td>\n      <td>NaN</td>\n      <td>NaN</td>\n    </tr>\n  </tbody>\n</table>\n</div>"
     },
     "execution_count": 10,
     "metadata": {},
     "output_type": "execute_result"
    }
   ],
   "source": [
    "test_df.describe(include=\"all\")"
   ]
  },
  {
   "cell_type": "markdown",
   "metadata": {},
   "source": [
    "**Заполним пропуски медианными значениями.**"
   ]
  },
  {
   "cell_type": "code",
   "execution_count": 11,
   "metadata": {
    "collapsed": true
   },
   "outputs": [],
   "source": [
    "train_df[\"Age\"].fillna(train_df[\"Age\"].median(), inplace=True)\n",
    "test_df[\"Age\"].fillna(train_df[\"Age\"].median(), inplace=True)\n",
    "train_df[\"Embarked\"].fillna(\"S\", inplace=True)\n",
    "test_df[\"Fare\"].fillna(train_df[\"Fare\"].median(), inplace=True)"
   ]
  },
  {
   "cell_type": "markdown",
   "metadata": {},
   "source": [
    "**Кодируем категориальные признаки `Pclass`, `Sex`, `SibSp`, `Parch` и `Embarked` с помощью техники One-Hot-Encoding.**"
   ]
  },
  {
   "cell_type": "code",
   "execution_count": 12,
   "metadata": {
    "collapsed": true
   },
   "outputs": [],
   "source": [
    "train_df = pd.concat(\n",
    "    [\n",
    "        train_df,\n",
    "        pd.get_dummies(train_df[\"Pclass\"], prefix=\"PClass\"),\n",
    "        pd.get_dummies(train_df[\"Sex\"], prefix=\"Sex\"),\n",
    "        pd.get_dummies(train_df[\"SibSp\"], prefix=\"SibSp\"),\n",
    "        pd.get_dummies(train_df[\"Parch\"], prefix=\"Parch\"),\n",
    "        pd.get_dummies(train_df[\"Embarked\"], prefix=\"Embarked\"),\n",
    "    ],\n",
    "    axis=1,\n",
    ")\n",
    "test_df = pd.concat(\n",
    "    [\n",
    "        test_df,\n",
    "        pd.get_dummies(test_df[\"Pclass\"], prefix=\"PClass\"),\n",
    "        pd.get_dummies(test_df[\"Sex\"], prefix=\"Sex\"),\n",
    "        pd.get_dummies(test_df[\"SibSp\"], prefix=\"SibSp\"),\n",
    "        pd.get_dummies(test_df[\"Parch\"], prefix=\"Parch\"),\n",
    "        pd.get_dummies(test_df[\"Embarked\"], prefix=\"Embarked\"),\n",
    "    ],\n",
    "    axis=1,\n",
    ")"
   ]
  },
  {
   "cell_type": "code",
   "execution_count": 13,
   "metadata": {
    "collapsed": true
   },
   "outputs": [],
   "source": [
    "train_df.drop(\n",
    "    [\n",
    "        \"Survived\",\n",
    "        \"Pclass\",\n",
    "        \"Name\",\n",
    "        \"Sex\",\n",
    "        \"SibSp\",\n",
    "        \"Parch\",\n",
    "        \"Ticket\",\n",
    "        \"Cabin\",\n",
    "        \"Embarked\",\n",
    "        \"PassengerId\",\n",
    "    ],\n",
    "    axis=1,\n",
    "    inplace=True,\n",
    ")\n",
    "test_df.drop(\n",
    "    [\n",
    "        \"Pclass\",\n",
    "        \"Name\",\n",
    "        \"Sex\",\n",
    "        \"SibSp\",\n",
    "        \"Parch\",\n",
    "        \"Ticket\",\n",
    "        \"Cabin\",\n",
    "        \"Embarked\",\n",
    "        \"PassengerId\",\n",
    "    ],\n",
    "    axis=1,\n",
    "    inplace=True,\n",
    ")"
   ]
  },
  {
   "cell_type": "markdown",
   "metadata": {},
   "source": [
    "**В тестовой выборке появляется новое значение Parch = 9, которого нет в обучающей выборке. Проигнорируем его.**"
   ]
  },
  {
   "cell_type": "code",
   "execution_count": 14,
   "metadata": {},
   "outputs": [
    {
     "data": {
      "text/plain": "((891, 24), (418, 25))"
     },
     "execution_count": 14,
     "metadata": {},
     "output_type": "execute_result"
    }
   ],
   "source": [
    "train_df.shape, test_df.shape"
   ]
  },
  {
   "cell_type": "code",
   "execution_count": 15,
   "metadata": {},
   "outputs": [
    {
     "data": {
      "text/plain": "{'Parch_9'}"
     },
     "execution_count": 15,
     "metadata": {},
     "output_type": "execute_result"
    }
   ],
   "source": [
    "set(test_df.columns) - set(train_df.columns)"
   ]
  },
  {
   "cell_type": "code",
   "execution_count": 16,
   "metadata": {
    "collapsed": true
   },
   "outputs": [],
   "source": [
    "test_df.drop([\"Parch_9\"], axis=1, inplace=True)"
   ]
  },
  {
   "cell_type": "code",
   "execution_count": 17,
   "metadata": {},
   "outputs": [
    {
     "data": {
      "text/plain": "    Age     Fare  PClass_1  PClass_2  PClass_3  Sex_female  Sex_male  SibSp_0  \\\n0  22.0   7.2500         0         0         1           0         1        0   \n1  38.0  71.2833         1         0         0           1         0        0   \n2  26.0   7.9250         0         0         1           1         0        1   \n3  35.0  53.1000         1         0         0           1         0        0   \n4  35.0   8.0500         0         0         1           0         1        1   \n\n   SibSp_1  SibSp_2  ...  Parch_0  Parch_1  Parch_2  Parch_3  Parch_4  \\\n0        1        0  ...        1        0        0        0        0   \n1        1        0  ...        1        0        0        0        0   \n2        0        0  ...        1        0        0        0        0   \n3        1        0  ...        1        0        0        0        0   \n4        0        0  ...        1        0        0        0        0   \n\n   Parch_5  Parch_6  Embarked_C  Embarked_Q  Embarked_S  \n0        0        0           0           0           1  \n1        0        0           1           0           0  \n2        0        0           0           0           1  \n3        0        0           0           0           1  \n4        0        0           0           0           1  \n\n[5 rows x 24 columns]",
      "text/html": "<div>\n<style scoped>\n    .dataframe tbody tr th:only-of-type {\n        vertical-align: middle;\n    }\n\n    .dataframe tbody tr th {\n        vertical-align: top;\n    }\n\n    .dataframe thead th {\n        text-align: right;\n    }\n</style>\n<table border=\"1\" class=\"dataframe\">\n  <thead>\n    <tr style=\"text-align: right;\">\n      <th></th>\n      <th>Age</th>\n      <th>Fare</th>\n      <th>PClass_1</th>\n      <th>PClass_2</th>\n      <th>PClass_3</th>\n      <th>Sex_female</th>\n      <th>Sex_male</th>\n      <th>SibSp_0</th>\n      <th>SibSp_1</th>\n      <th>SibSp_2</th>\n      <th>...</th>\n      <th>Parch_0</th>\n      <th>Parch_1</th>\n      <th>Parch_2</th>\n      <th>Parch_3</th>\n      <th>Parch_4</th>\n      <th>Parch_5</th>\n      <th>Parch_6</th>\n      <th>Embarked_C</th>\n      <th>Embarked_Q</th>\n      <th>Embarked_S</th>\n    </tr>\n  </thead>\n  <tbody>\n    <tr>\n      <th>0</th>\n      <td>22.0</td>\n      <td>7.2500</td>\n      <td>0</td>\n      <td>0</td>\n      <td>1</td>\n      <td>0</td>\n      <td>1</td>\n      <td>0</td>\n      <td>1</td>\n      <td>0</td>\n      <td>...</td>\n      <td>1</td>\n      <td>0</td>\n      <td>0</td>\n      <td>0</td>\n      <td>0</td>\n      <td>0</td>\n      <td>0</td>\n      <td>0</td>\n      <td>0</td>\n      <td>1</td>\n    </tr>\n    <tr>\n      <th>1</th>\n      <td>38.0</td>\n      <td>71.2833</td>\n      <td>1</td>\n      <td>0</td>\n      <td>0</td>\n      <td>1</td>\n      <td>0</td>\n      <td>0</td>\n      <td>1</td>\n      <td>0</td>\n      <td>...</td>\n      <td>1</td>\n      <td>0</td>\n      <td>0</td>\n      <td>0</td>\n      <td>0</td>\n      <td>0</td>\n      <td>0</td>\n      <td>1</td>\n      <td>0</td>\n      <td>0</td>\n    </tr>\n    <tr>\n      <th>2</th>\n      <td>26.0</td>\n      <td>7.9250</td>\n      <td>0</td>\n      <td>0</td>\n      <td>1</td>\n      <td>1</td>\n      <td>0</td>\n      <td>1</td>\n      <td>0</td>\n      <td>0</td>\n      <td>...</td>\n      <td>1</td>\n      <td>0</td>\n      <td>0</td>\n      <td>0</td>\n      <td>0</td>\n      <td>0</td>\n      <td>0</td>\n      <td>0</td>\n      <td>0</td>\n      <td>1</td>\n    </tr>\n    <tr>\n      <th>3</th>\n      <td>35.0</td>\n      <td>53.1000</td>\n      <td>1</td>\n      <td>0</td>\n      <td>0</td>\n      <td>1</td>\n      <td>0</td>\n      <td>0</td>\n      <td>1</td>\n      <td>0</td>\n      <td>...</td>\n      <td>1</td>\n      <td>0</td>\n      <td>0</td>\n      <td>0</td>\n      <td>0</td>\n      <td>0</td>\n      <td>0</td>\n      <td>0</td>\n      <td>0</td>\n      <td>1</td>\n    </tr>\n    <tr>\n      <th>4</th>\n      <td>35.0</td>\n      <td>8.0500</td>\n      <td>0</td>\n      <td>0</td>\n      <td>1</td>\n      <td>0</td>\n      <td>1</td>\n      <td>1</td>\n      <td>0</td>\n      <td>0</td>\n      <td>...</td>\n      <td>1</td>\n      <td>0</td>\n      <td>0</td>\n      <td>0</td>\n      <td>0</td>\n      <td>0</td>\n      <td>0</td>\n      <td>0</td>\n      <td>0</td>\n      <td>1</td>\n    </tr>\n  </tbody>\n</table>\n<p>5 rows × 24 columns</p>\n</div>"
     },
     "execution_count": 17,
     "metadata": {},
     "output_type": "execute_result"
    }
   ],
   "source": [
    "train_df.head()"
   ]
  },
  {
   "cell_type": "code",
   "execution_count": 18,
   "metadata": {},
   "outputs": [
    {
     "data": {
      "text/plain": "    Age     Fare  PClass_1  PClass_2  PClass_3  Sex_female  Sex_male  SibSp_0  \\\n0  34.5   7.8292         0         0         1           0         1        1   \n1  47.0   7.0000         0         0         1           1         0        0   \n2  62.0   9.6875         0         1         0           0         1        1   \n3  27.0   8.6625         0         0         1           0         1        1   \n4  22.0  12.2875         0         0         1           1         0        0   \n\n   SibSp_1  SibSp_2  ...  Parch_0  Parch_1  Parch_2  Parch_3  Parch_4  \\\n0        0        0  ...        1        0        0        0        0   \n1        1        0  ...        1        0        0        0        0   \n2        0        0  ...        1        0        0        0        0   \n3        0        0  ...        1        0        0        0        0   \n4        1        0  ...        0        1        0        0        0   \n\n   Parch_5  Parch_6  Embarked_C  Embarked_Q  Embarked_S  \n0        0        0           0           1           0  \n1        0        0           0           0           1  \n2        0        0           0           1           0  \n3        0        0           0           0           1  \n4        0        0           0           0           1  \n\n[5 rows x 24 columns]",
      "text/html": "<div>\n<style scoped>\n    .dataframe tbody tr th:only-of-type {\n        vertical-align: middle;\n    }\n\n    .dataframe tbody tr th {\n        vertical-align: top;\n    }\n\n    .dataframe thead th {\n        text-align: right;\n    }\n</style>\n<table border=\"1\" class=\"dataframe\">\n  <thead>\n    <tr style=\"text-align: right;\">\n      <th></th>\n      <th>Age</th>\n      <th>Fare</th>\n      <th>PClass_1</th>\n      <th>PClass_2</th>\n      <th>PClass_3</th>\n      <th>Sex_female</th>\n      <th>Sex_male</th>\n      <th>SibSp_0</th>\n      <th>SibSp_1</th>\n      <th>SibSp_2</th>\n      <th>...</th>\n      <th>Parch_0</th>\n      <th>Parch_1</th>\n      <th>Parch_2</th>\n      <th>Parch_3</th>\n      <th>Parch_4</th>\n      <th>Parch_5</th>\n      <th>Parch_6</th>\n      <th>Embarked_C</th>\n      <th>Embarked_Q</th>\n      <th>Embarked_S</th>\n    </tr>\n  </thead>\n  <tbody>\n    <tr>\n      <th>0</th>\n      <td>34.5</td>\n      <td>7.8292</td>\n      <td>0</td>\n      <td>0</td>\n      <td>1</td>\n      <td>0</td>\n      <td>1</td>\n      <td>1</td>\n      <td>0</td>\n      <td>0</td>\n      <td>...</td>\n      <td>1</td>\n      <td>0</td>\n      <td>0</td>\n      <td>0</td>\n      <td>0</td>\n      <td>0</td>\n      <td>0</td>\n      <td>0</td>\n      <td>1</td>\n      <td>0</td>\n    </tr>\n    <tr>\n      <th>1</th>\n      <td>47.0</td>\n      <td>7.0000</td>\n      <td>0</td>\n      <td>0</td>\n      <td>1</td>\n      <td>1</td>\n      <td>0</td>\n      <td>0</td>\n      <td>1</td>\n      <td>0</td>\n      <td>...</td>\n      <td>1</td>\n      <td>0</td>\n      <td>0</td>\n      <td>0</td>\n      <td>0</td>\n      <td>0</td>\n      <td>0</td>\n      <td>0</td>\n      <td>0</td>\n      <td>1</td>\n    </tr>\n    <tr>\n      <th>2</th>\n      <td>62.0</td>\n      <td>9.6875</td>\n      <td>0</td>\n      <td>1</td>\n      <td>0</td>\n      <td>0</td>\n      <td>1</td>\n      <td>1</td>\n      <td>0</td>\n      <td>0</td>\n      <td>...</td>\n      <td>1</td>\n      <td>0</td>\n      <td>0</td>\n      <td>0</td>\n      <td>0</td>\n      <td>0</td>\n      <td>0</td>\n      <td>0</td>\n      <td>1</td>\n      <td>0</td>\n    </tr>\n    <tr>\n      <th>3</th>\n      <td>27.0</td>\n      <td>8.6625</td>\n      <td>0</td>\n      <td>0</td>\n      <td>1</td>\n      <td>0</td>\n      <td>1</td>\n      <td>1</td>\n      <td>0</td>\n      <td>0</td>\n      <td>...</td>\n      <td>1</td>\n      <td>0</td>\n      <td>0</td>\n      <td>0</td>\n      <td>0</td>\n      <td>0</td>\n      <td>0</td>\n      <td>0</td>\n      <td>0</td>\n      <td>1</td>\n    </tr>\n    <tr>\n      <th>4</th>\n      <td>22.0</td>\n      <td>12.2875</td>\n      <td>0</td>\n      <td>0</td>\n      <td>1</td>\n      <td>1</td>\n      <td>0</td>\n      <td>0</td>\n      <td>1</td>\n      <td>0</td>\n      <td>...</td>\n      <td>0</td>\n      <td>1</td>\n      <td>0</td>\n      <td>0</td>\n      <td>0</td>\n      <td>0</td>\n      <td>0</td>\n      <td>0</td>\n      <td>0</td>\n      <td>1</td>\n    </tr>\n  </tbody>\n</table>\n<p>5 rows × 24 columns</p>\n</div>"
     },
     "execution_count": 18,
     "metadata": {},
     "output_type": "execute_result"
    }
   ],
   "source": [
    "test_df.head()"
   ]
  },
  {
   "cell_type": "markdown",
   "metadata": {},
   "source": [
    "## 1. Дерево решений без настройки параметров "
   ]
  },
  {
   "cell_type": "markdown",
   "metadata": {},
   "source": [
    "**Обучите на имеющейся выборке дерево решений (`DecisionTreeClassifier`) максимальной глубины 2. Используйте параметр `random_state=17` для воспроизводимости результатов.**"
   ]
  },
  {
   "cell_type": "code",
   "execution_count": 19,
   "metadata": {
    "collapsed": true
   },
   "outputs": [
    {
     "data": {
      "text/plain": "DecisionTreeClassifier(max_depth=2, random_state=17)"
     },
     "execution_count": 19,
     "metadata": {},
     "output_type": "execute_result"
    }
   ],
   "source": [
    "# Ваш код здесь\n",
    "clf = DecisionTreeClassifier(random_state=17, max_depth=2)\n",
    "# print(train_df, y)\n",
    "clf.fit(train_df, y)"
   ]
  },
  {
   "cell_type": "markdown",
   "metadata": {},
   "source": [
    "**Сделайте с помощью полученной модели прогноз для тестовой выборки **"
   ]
  },
  {
   "cell_type": "code",
   "execution_count": 20,
   "metadata": {
    "collapsed": true
   },
   "outputs": [],
   "source": [
    "predicted = clf.predict(test_df)"
   ]
  },
  {
   "cell_type": "markdown",
   "metadata": {},
   "source": [
    "**Сформируйте файл посылки и отправьте на Kaggle**"
   ]
  },
  {
   "cell_type": "code",
   "execution_count": 21,
   "metadata": {
    "collapsed": true
   },
   "outputs": [],
   "source": [
    "write_to_submission_file(predicted, '../data/out.csv')"
   ]
  },
  {
   "cell_type": "markdown",
   "metadata": {},
   "source": [
    "<font color='red'>Вопрос 1. </font> Каков результат первой посылки (дерево решений без настройки параметров) в публичном рейтинге соревнования Titanic?\n",
    "- 0.746\n",
    "- 0.756\n",
    "- 0.766\n",
    "- 0.776\n",
    "\n",
    "0.746"
   ]
  },
  {
   "cell_type": "markdown",
   "metadata": {},
   "source": [
    "**Отобразите дерево с помощью `export_graphviz` и `dot`.**"
   ]
  },
  {
   "cell_type": "code",
   "execution_count": 22,
   "metadata": {
    "collapsed": true
   },
   "outputs": [
    {
     "data": {
      "text/plain": "<Figure size 432x288 with 1 Axes>",
      "image/png": "[encoded data removed]"
     },
     "metadata": {
      "needs_background": "light"
     },
     "output_type": "display_data"
    }
   ],
   "source": [
    "export_graphviz(clf, '../data/tree.dot')\n",
    "tree.plot_tree(clf);"
   ]
  },
  {
   "cell_type": "markdown",
   "metadata": {},
   "source": [
    "<font color='red'>Вопрос 2. </font> Сколько признаков задействуются при прогнозе деревом решений глубины 2?\n",
    "- 2\n",
    "- 3\n",
    "- 4\n",
    "- 5\n",
    "\n",
    "3"
   ]
  },
  {
   "cell_type": "markdown",
   "metadata": {},
   "source": [
    "## 2. Дерево решений с настройкой параметров "
   ]
  },
  {
   "cell_type": "markdown",
   "metadata": {},
   "source": [
    "**Обучите на имеющейся выборке дерево решений (`DecisionTreeClassifier`). Также укажите `random_state=17`. Максимальную глубину и минимальное число элементов в листе настройте на 5-кратной кросс-валидации с помощью `GridSearchCV`.**"
   ]
  },
  {
   "cell_type": "code",
   "execution_count": 23,
   "metadata": {
    "collapsed": true
   },
   "outputs": [
    {
     "name": "stdout",
     "output_type": "stream",
     "text": [
      "{'max_depth': 3, 'min_samples_leaf': 3}\n",
      "0.8103132257862031\n"
     ]
    }
   ],
   "source": [
    "from sklearn.model_selection import GridSearchCV\n",
    "\n",
    "# tree params for grid search\n",
    "tree_params = {\"max_depth\": list(range(1, 5)), \"min_samples_leaf\": list(range(1, 5))}\n",
    "clf = DecisionTreeClassifier(random_state=17)\n",
    "gs = GridSearchCV(clf, tree_params, cv=5)\n",
    "gs.fit(train_df, y)\n",
    "print(gs.best_params_)\n",
    "print(gs.best_score_)\n",
    "# Ваш код здесь"
   ]
  },
  {
   "cell_type": "markdown",
   "metadata": {},
   "source": [
    "<font color='red'>Вопрос 3. </font> Каковы лучшие параметры дерева, настроенные на кросс-валидации с помощью `GridSearchCV`?\n",
    "- max_depth=2, min_samples_leaf=1\n",
    "- max_depth=2, min_samples_leaf=4\n",
    "- max_depth=3, min_samples_leaf=2\n",
    "- max_depth=3, min_samples_leaf=3\n",
    "\n",
    "{'max_depth': 3, 'min_samples_leaf': 3}"
   ]
  },
  {
   "cell_type": "markdown",
   "metadata": {},
   "source": [
    "<font color='red'>Вопрос 4. </font> Какой получилась средняя доля верных ответов на кросс-валидации для дерева решений с лучшим сочетанием гиперпараметров `max_depth` и `min_samples_leaf`?\n",
    "- 0.77\n",
    "- 0.79\n",
    "- 0.81\n",
    "- 0.83\n",
    "\n",
    "0.81"
   ]
  },
  {
   "cell_type": "markdown",
   "metadata": {},
   "source": [
    "**Сделайте с помощью полученной модели прогноз для тестовой выборки.**"
   ]
  },
  {
   "cell_type": "code",
   "execution_count": 28,
   "metadata": {
    "collapsed": true
   },
   "outputs": [
    {
     "name": "stdout",
     "output_type": "stream",
     "text": [
      "[[0.88452656 0.11547344]\n",
      " [0.41025641 0.58974359]\n",
      " [0.88452656 0.11547344]\n",
      " [0.88452656 0.11547344]\n",
      " [0.41025641 0.58974359]\n",
      " [0.88452656 0.11547344]\n",
      " [0.41025641 0.58974359]\n",
      " [0.88452656 0.11547344]\n",
      " [0.41025641 0.58974359]\n",
      " [0.88452656 0.11547344]\n",
      " [0.88452656 0.11547344]\n",
      " [0.64166667 0.35833333]\n",
      " [0.02       0.98      ]\n",
      " [0.88452656 0.11547344]\n",
      " [0.02       0.98      ]\n",
      " [0.1        0.9       ]\n",
      " [0.88452656 0.11547344]\n",
      " [0.88452656 0.11547344]\n",
      " [0.41025641 0.58974359]\n",
      " [0.41025641 0.58974359]\n",
      " [0.64166667 0.35833333]\n",
      " [0.88452656 0.11547344]\n",
      " [0.02       0.98      ]\n",
      " [0.64166667 0.35833333]\n",
      " [0.02       0.98      ]\n",
      " [0.88452656 0.11547344]\n",
      " [0.02       0.98      ]\n",
      " [0.88452656 0.11547344]\n",
      " [0.64166667 0.35833333]\n",
      " [0.88452656 0.11547344]\n",
      " [0.88452656 0.11547344]\n",
      " [0.88452656 0.11547344]\n",
      " [0.41025641 0.58974359]\n",
      " [0.88888889 0.11111111]\n",
      " [0.64166667 0.35833333]\n",
      " [0.88452656 0.11547344]\n",
      " [0.41025641 0.58974359]\n",
      " [0.41025641 0.58974359]\n",
      " [0.88452656 0.11547344]\n",
      " [0.88452656 0.11547344]\n",
      " [0.88452656 0.11547344]\n",
      " [0.64166667 0.35833333]\n",
      " [0.88452656 0.11547344]\n",
      " [0.1        0.9       ]\n",
      " [0.02       0.98      ]\n",
      " [0.88452656 0.11547344]\n",
      " [0.64166667 0.35833333]\n",
      " [0.88452656 0.11547344]\n",
      " [0.02       0.98      ]\n",
      " [0.41025641 0.58974359]\n",
      " [0.64166667 0.35833333]\n",
      " [0.88452656 0.11547344]\n",
      " [0.1        0.9       ]\n",
      " [0.02       0.98      ]\n",
      " [0.88452656 0.11547344]\n",
      " [0.88452656 0.11547344]\n",
      " [0.88452656 0.11547344]\n",
      " [0.88452656 0.11547344]\n",
      " [0.88452656 0.11547344]\n",
      " [0.02       0.98      ]\n",
      " [0.88452656 0.11547344]\n",
      " [0.88452656 0.11547344]\n",
      " [0.88452656 0.11547344]\n",
      " [0.41025641 0.58974359]\n",
      " [0.64166667 0.35833333]\n",
      " [0.1        0.9       ]\n",
      " [0.41025641 0.58974359]\n",
      " [0.64166667 0.35833333]\n",
      " [0.64166667 0.35833333]\n",
      " [0.02       0.98      ]\n",
      " [0.41025641 0.58974359]\n",
      " [0.88452656 0.11547344]\n",
      " [0.41025641 0.58974359]\n",
      " [0.64166667 0.35833333]\n",
      " [0.02       0.98      ]\n",
      " [0.64166667 0.35833333]\n",
      " [0.88452656 0.11547344]\n",
      " [0.1        0.9       ]\n",
      " [0.88452656 0.11547344]\n",
      " [0.41025641 0.58974359]\n",
      " [0.16666667 0.83333333]\n",
      " [0.64166667 0.35833333]\n",
      " [0.64166667 0.35833333]\n",
      " [0.88452656 0.11547344]\n",
      " [0.88452656 0.11547344]\n",
      " [0.88452656 0.11547344]\n",
      " [0.41025641 0.58974359]\n",
      " [0.41025641 0.58974359]\n",
      " [0.41025641 0.58974359]\n",
      " [0.16666667 0.83333333]\n",
      " [0.41025641 0.58974359]\n",
      " [0.88452656 0.11547344]\n",
      " [0.02       0.98      ]\n",
      " [0.88452656 0.11547344]\n",
      " [0.64166667 0.35833333]\n",
      " [0.88452656 0.11547344]\n",
      " [0.02       0.98      ]\n",
      " [0.88452656 0.11547344]\n",
      " [0.41025641 0.58974359]\n",
      " [0.88452656 0.11547344]\n",
      " [0.02       0.98      ]\n",
      " [0.88452656 0.11547344]\n",
      " [0.88452656 0.11547344]\n",
      " [0.88452656 0.11547344]\n",
      " [0.41025641 0.58974359]\n",
      " [0.88452656 0.11547344]\n",
      " [0.88452656 0.11547344]\n",
      " [0.88452656 0.11547344]\n",
      " [0.88452656 0.11547344]\n",
      " [0.88452656 0.11547344]\n",
      " [0.88452656 0.11547344]\n",
      " [0.41025641 0.58974359]\n",
      " [0.02       0.98      ]\n",
      " [0.41025641 0.58974359]\n",
      " [0.02       0.98      ]\n",
      " [0.88452656 0.11547344]\n",
      " [0.88452656 0.11547344]\n",
      " [0.41025641 0.58974359]\n",
      " [0.64166667 0.35833333]\n",
      " [0.1        0.9       ]\n",
      " [0.1        0.9       ]\n",
      " [0.88452656 0.11547344]\n",
      " [0.02       0.98      ]\n",
      " [0.88452656 0.11547344]\n",
      " [0.88452656 0.11547344]\n",
      " [0.41025641 0.58974359]\n",
      " [0.88452656 0.11547344]\n",
      " [0.41025641 0.58974359]\n",
      " [0.88452656 0.11547344]\n",
      " [0.88452656 0.11547344]\n",
      " [0.88452656 0.11547344]\n",
      " [0.64166667 0.35833333]\n",
      " [0.88888889 0.11111111]\n",
      " [0.88452656 0.11547344]\n",
      " [0.88452656 0.11547344]\n",
      " [0.88452656 0.11547344]\n",
      " [0.88452656 0.11547344]\n",
      " [0.88452656 0.11547344]\n",
      " [0.41025641 0.58974359]\n",
      " [0.88452656 0.11547344]\n",
      " [0.88888889 0.11111111]\n",
      " [0.02       0.98      ]\n",
      " [0.64166667 0.35833333]\n",
      " [0.88452656 0.11547344]\n",
      " [0.64166667 0.35833333]\n",
      " [0.88452656 0.11547344]\n",
      " [0.64166667 0.35833333]\n",
      " [0.88452656 0.11547344]\n",
      " [0.64166667 0.35833333]\n",
      " [0.88452656 0.11547344]\n",
      " [0.02       0.98      ]\n",
      " [0.88452656 0.11547344]\n",
      " [0.88452656 0.11547344]\n",
      " [0.41025641 0.58974359]\n",
      " [0.88452656 0.11547344]\n",
      " [0.88452656 0.11547344]\n",
      " [0.02       0.98      ]\n",
      " [0.41025641 0.58974359]\n",
      " [0.64166667 0.35833333]\n",
      " [0.41025641 0.58974359]\n",
      " [0.41025641 0.58974359]\n",
      " [0.88452656 0.11547344]\n",
      " [0.1        0.9       ]\n",
      " [0.88452656 0.11547344]\n",
      " [0.88452656 0.11547344]\n",
      " [0.41025641 0.58974359]\n",
      " [0.64166667 0.35833333]\n",
      " [0.88452656 0.11547344]\n",
      " [0.1        0.9       ]\n",
      " [0.41025641 0.58974359]\n",
      " [0.88452656 0.11547344]\n",
      " [0.88452656 0.11547344]\n",
      " [0.88452656 0.11547344]\n",
      " [0.88452656 0.11547344]\n",
      " [0.88452656 0.11547344]\n",
      " [0.02       0.98      ]\n",
      " [0.02       0.98      ]\n",
      " [0.64166667 0.35833333]\n",
      " [0.02       0.98      ]\n",
      " [0.02       0.98      ]\n",
      " [0.88452656 0.11547344]\n",
      " [0.64166667 0.35833333]\n",
      " [0.02       0.98      ]\n",
      " [0.88452656 0.11547344]\n",
      " [0.02       0.98      ]\n",
      " [0.88452656 0.11547344]\n",
      " [0.1        0.9       ]\n",
      " [0.88452656 0.11547344]\n",
      " [0.88888889 0.11111111]\n",
      " [0.88452656 0.11547344]\n",
      " [0.88452656 0.11547344]\n",
      " [0.64166667 0.35833333]\n",
      " [0.88452656 0.11547344]\n",
      " [0.88452656 0.11547344]\n",
      " [0.88452656 0.11547344]\n",
      " [0.88452656 0.11547344]\n",
      " [0.16666667 0.83333333]\n",
      " [0.41025641 0.58974359]\n",
      " [0.88452656 0.11547344]\n",
      " [0.41025641 0.58974359]\n",
      " [0.41025641 0.58974359]\n",
      " [0.16666667 0.83333333]\n",
      " [0.64166667 0.35833333]\n",
      " [0.1        0.9       ]\n",
      " [0.88452656 0.11547344]\n",
      " [0.64166667 0.35833333]\n",
      " [0.41025641 0.58974359]\n",
      " [0.88452656 0.11547344]\n",
      " [0.1        0.9       ]\n",
      " [0.88452656 0.11547344]\n",
      " [0.88452656 0.11547344]\n",
      " [0.88452656 0.11547344]\n",
      " [0.88452656 0.11547344]\n",
      " [0.1        0.9       ]\n",
      " [0.41025641 0.58974359]\n",
      " [0.64166667 0.35833333]\n",
      " [0.41025641 0.58974359]\n",
      " [0.64166667 0.35833333]\n",
      " [0.02       0.98      ]\n",
      " [0.88452656 0.11547344]\n",
      " [0.1        0.9       ]\n",
      " [0.88452656 0.11547344]\n",
      " [0.1        0.9       ]\n",
      " [0.88452656 0.11547344]\n",
      " [0.1        0.9       ]\n",
      " [0.41025641 0.58974359]\n",
      " [0.88452656 0.11547344]\n",
      " [0.41025641 0.58974359]\n",
      " [0.88452656 0.11547344]\n",
      " [0.88452656 0.11547344]\n",
      " [0.88452656 0.11547344]\n",
      " [0.1        0.9       ]\n",
      " [0.88452656 0.11547344]\n",
      " [0.88452656 0.11547344]\n",
      " [0.64166667 0.35833333]\n",
      " [0.88452656 0.11547344]\n",
      " [0.64166667 0.35833333]\n",
      " [0.88452656 0.11547344]\n",
      " [0.1        0.9       ]\n",
      " [0.02       0.98      ]\n",
      " [0.1        0.9       ]\n",
      " [0.02       0.98      ]\n",
      " [0.64166667 0.35833333]\n",
      " [0.88452656 0.11547344]\n",
      " [0.88452656 0.11547344]\n",
      " [0.64166667 0.35833333]\n",
      " [0.1        0.9       ]\n",
      " [0.88452656 0.11547344]\n",
      " [0.1        0.9       ]\n",
      " [0.41025641 0.58974359]\n",
      " [0.1        0.9       ]\n",
      " [0.88452656 0.11547344]\n",
      " [0.64166667 0.35833333]\n",
      " [0.88452656 0.11547344]\n",
      " [0.88452656 0.11547344]\n",
      " [0.88452656 0.11547344]\n",
      " [0.88452656 0.11547344]\n",
      " [0.88452656 0.11547344]\n",
      " [0.1        0.9       ]\n",
      " [0.88452656 0.11547344]\n",
      " [0.88452656 0.11547344]\n",
      " [0.88452656 0.11547344]\n",
      " [0.1        0.9       ]\n",
      " [0.41025641 0.58974359]\n",
      " [0.88452656 0.11547344]\n",
      " [0.88452656 0.11547344]\n",
      " [0.64166667 0.35833333]\n",
      " [0.88452656 0.11547344]\n",
      " [0.41025641 0.58974359]\n",
      " [0.88452656 0.11547344]\n",
      " [0.64166667 0.35833333]\n",
      " [0.88452656 0.11547344]\n",
      " [0.02       0.98      ]\n",
      " [0.41025641 0.58974359]\n",
      " [0.88452656 0.11547344]\n",
      " [0.1        0.9       ]\n",
      " [0.88452656 0.11547344]\n",
      " [0.88452656 0.11547344]\n",
      " [0.88452656 0.11547344]\n",
      " [0.88452656 0.11547344]\n",
      " [0.41025641 0.58974359]\n",
      " [0.16666667 0.83333333]\n",
      " [0.41025641 0.58974359]\n",
      " [0.41025641 0.58974359]\n",
      " [0.41025641 0.58974359]\n",
      " [0.88452656 0.11547344]\n",
      " [0.88452656 0.11547344]\n",
      " [0.64166667 0.35833333]\n",
      " [0.88452656 0.11547344]\n",
      " [0.88452656 0.11547344]\n",
      " [0.64166667 0.35833333]\n",
      " [0.41025641 0.58974359]\n",
      " [0.88452656 0.11547344]\n",
      " [0.64166667 0.35833333]\n",
      " [0.88452656 0.11547344]\n",
      " [0.88452656 0.11547344]\n",
      " [0.02       0.98      ]\n",
      " [0.88452656 0.11547344]\n",
      " [0.64166667 0.35833333]\n",
      " [0.88452656 0.11547344]\n",
      " [0.88452656 0.11547344]\n",
      " [0.88452656 0.11547344]\n",
      " [0.88452656 0.11547344]\n",
      " [0.88452656 0.11547344]\n",
      " [0.41025641 0.58974359]\n",
      " [0.1        0.9       ]\n",
      " [0.64166667 0.35833333]\n",
      " [0.16666667 0.83333333]\n",
      " [0.64166667 0.35833333]\n",
      " [0.41025641 0.58974359]\n",
      " [0.88452656 0.11547344]\n",
      " [0.88452656 0.11547344]\n",
      " [0.88452656 0.11547344]\n",
      " [0.41025641 0.58974359]\n",
      " [0.02       0.98      ]\n",
      " [0.41025641 0.58974359]\n",
      " [0.64166667 0.35833333]\n",
      " [0.88452656 0.11547344]\n",
      " [0.88452656 0.11547344]\n",
      " [0.88452656 0.11547344]\n",
      " [0.88452656 0.11547344]\n",
      " [0.88452656 0.11547344]\n",
      " [0.88452656 0.11547344]\n",
      " [0.64166667 0.35833333]\n",
      " [0.02       0.98      ]\n",
      " [0.88452656 0.11547344]\n",
      " [0.02       0.98      ]\n",
      " [0.64166667 0.35833333]\n",
      " [0.88452656 0.11547344]\n",
      " [0.88452656 0.11547344]\n",
      " [0.02       0.98      ]\n",
      " [0.64166667 0.35833333]\n",
      " [0.88452656 0.11547344]\n",
      " [0.41025641 0.58974359]\n",
      " [0.88452656 0.11547344]\n",
      " [0.64166667 0.35833333]\n",
      " [0.88452656 0.11547344]\n",
      " [0.88452656 0.11547344]\n",
      " [0.88452656 0.11547344]\n",
      " [0.88452656 0.11547344]\n",
      " [0.88452656 0.11547344]\n",
      " [0.88452656 0.11547344]\n",
      " [0.88452656 0.11547344]\n",
      " [0.02       0.98      ]\n",
      " [0.88452656 0.11547344]\n",
      " [0.41025641 0.58974359]\n",
      " [0.88452656 0.11547344]\n",
      " [0.41025641 0.58974359]\n",
      " [0.88452656 0.11547344]\n",
      " [0.1        0.9       ]\n",
      " [0.02       0.98      ]\n",
      " [0.88452656 0.11547344]\n",
      " [0.88452656 0.11547344]\n",
      " [0.88452656 0.11547344]\n",
      " [0.41025641 0.58974359]\n",
      " [0.64166667 0.35833333]\n",
      " [0.02       0.98      ]\n",
      " [0.88452656 0.11547344]\n",
      " [0.88452656 0.11547344]\n",
      " [0.41025641 0.58974359]\n",
      " [0.88452656 0.11547344]\n",
      " [0.02       0.98      ]\n",
      " [0.1        0.9       ]\n",
      " [0.88452656 0.11547344]\n",
      " [0.02       0.98      ]\n",
      " [0.88888889 0.11111111]\n",
      " [0.88452656 0.11547344]\n",
      " [0.88888889 0.11111111]\n",
      " [0.02       0.98      ]\n",
      " [0.88452656 0.11547344]\n",
      " [0.88452656 0.11547344]\n",
      " [0.02       0.98      ]\n",
      " [0.64166667 0.35833333]\n",
      " [0.88452656 0.11547344]\n",
      " [0.02       0.98      ]\n",
      " [0.02       0.98      ]\n",
      " [0.41025641 0.58974359]\n",
      " [0.88452656 0.11547344]\n",
      " [0.64166667 0.35833333]\n",
      " [0.83333333 0.16666667]\n",
      " [0.88452656 0.11547344]\n",
      " [0.88452656 0.11547344]\n",
      " [0.41025641 0.58974359]\n",
      " [0.41025641 0.58974359]\n",
      " [0.88452656 0.11547344]\n",
      " [0.02       0.98      ]\n",
      " [0.88452656 0.11547344]\n",
      " [0.88452656 0.11547344]\n",
      " [0.88452656 0.11547344]\n",
      " [0.16666667 0.83333333]\n",
      " [0.64166667 0.35833333]\n",
      " [0.02       0.98      ]\n",
      " [0.88452656 0.11547344]\n",
      " [0.88452656 0.11547344]\n",
      " [0.88452656 0.11547344]\n",
      " [0.02       0.98      ]\n",
      " [0.88452656 0.11547344]\n",
      " [0.02       0.98      ]\n",
      " [0.88452656 0.11547344]\n",
      " [0.88452656 0.11547344]\n",
      " [0.02       0.98      ]\n",
      " [0.88452656 0.11547344]\n",
      " [0.02       0.98      ]\n",
      " [0.64166667 0.35833333]\n",
      " [0.64166667 0.35833333]\n",
      " [0.88452656 0.11547344]\n",
      " [0.88452656 0.11547344]\n",
      " [0.64166667 0.35833333]\n",
      " [0.41025641 0.58974359]\n",
      " [0.41025641 0.58974359]\n",
      " [0.41025641 0.58974359]\n",
      " [0.02       0.98      ]\n",
      " [0.41025641 0.58974359]\n",
      " [0.88452656 0.11547344]\n",
      " [0.02       0.98      ]\n",
      " [0.88452656 0.11547344]\n",
      " [0.88452656 0.11547344]\n",
      " [0.88452656 0.11547344]]\n"
     ]
    }
   ],
   "source": [
    "\n",
    "\n",
    "# Ваш код здесь\n",
    "predicted = gs.predict_proba(test_df)"
   ]
  },
  {
   "cell_type": "markdown",
   "metadata": {},
   "source": [
    "**Сформируйте файл посылки и отправьте на Kaggle.**"
   ]
  },
  {
   "cell_type": "code",
   "execution_count": 25,
   "metadata": {
    "collapsed": true
   },
   "outputs": [],
   "source": [
    "write_to_submission_file(predicted, '../data/out.csv')"
   ]
  },
  {
   "cell_type": "markdown",
   "metadata": {},
   "source": [
    "<font color='red'>Вопрос 5. </font> Каков результат второй посылки (дерево решений с настройкой гиперпараметров) в публичном рейтинге соревнования Titanic?\n",
    "- 0.7499\n",
    "- 0.7599\n",
    "- 0.7699\n",
    "- 0.7799\n",
    "\n",
    "0.7799"
   ]
  },
  {
   "cell_type": "markdown",
   "metadata": {},
   "source": [
    "## Ссылки:"
   ]
  },
  {
   "cell_type": "markdown",
   "metadata": {},
   "source": [
    " - <a href=\"https://www.kaggle.com/c/titanic\">Соревнование</a> Kaggle \"Titanic: Machine Learning from Disaster\"\n",
    " - <a href=\"https://www.dataquest.io/mission/74/getting-started-with-kaggle/\">Тьюториал</a> Dataquest по задаче Kaggle \"Titanic: Machine Learning from Disaster\""
   ]
  }
 ],
 "metadata": {
  "anaconda-cloud": {},
  "kernelspec": {
   "display_name": "Python 3",
   "language": "python",
   "name": "python3"
  },
  "language_info": {
   "codemirror_mode": {
    "name": "ipython",
    "version": 3
   },
   "file_extension": ".py",
   "mimetype": "text/x-python",
   "name": "python",
   "nbconvert_exporter": "python",
   "pygments_lexer": "ipython3",
   "version": "3.6.1"
  },
  "name": "lesson3_homework_trees_titanic_solution.ipynb"
 },
 "nbformat": 4,
 "nbformat_minor": 1
}